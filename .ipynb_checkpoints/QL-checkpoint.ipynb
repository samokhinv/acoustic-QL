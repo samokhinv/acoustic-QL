{
 "cells": [
  {
   "cell_type": "markdown",
   "metadata": {},
   "source": [
    "Вводится следующее отношение:\n",
    "$$p(\\overline{r}, \\omega) = p^i(\\overline{r}, \\omega) + p^s(\\overline{r}, \\omega)=\\left[1 + \\lambda(\\overline{r}, \\omega)\\right]p^i(\\overline{r}, \\omega),\\ \\ \\lambda(\\overline{r}, \\omega) = \\dfrac{p^s(\\overline{r}, \\omega)}{p^i(\\overline{r}, \\omega)}$$\n",
    " \t$$p^s(\\overline{r}_j, \\omega) = \\omega^2G_\\omega\\left(\\triangle s^2(\\overline{r})\\left[1+\\lambda(\\overline{r}, \\omega)\\right]p^i(\\overline{r}, \\omega)\\right)$$\n",
    "Заметим, что при $\\lambda  = 0$ получаем приближение Борна.\n",
    "Чтобы не возникало путаницы с переменными, хочу обратить внимание на то, что здесь $G_\\omega$ - интегральный оператор \t\n",
    "\n",
    "При таком подходе основной проблемой становится нахождение $\\lambda$, которая решается численным решением задачи минимизации\n",
    "$$\\|\\lambda(\\overline{r}_j, \\omega)p^i(\\overline{r}_j, \\omega) - \\omega^2G_\\omega\\left(\\triangle s^2(\\overline{r})\\left[1+ \\lambda(\\overline{r}, \\omega)\\right]p^i(\\overline{r}, \\omega)\\right)\\|_{\\Omega, \\mathcal{D}},$$\n",
    " \tгде под $\\|\\cdot\\|_{\\Omega, \\mathcal{D}}$ подразумевается норма в $L_2$, т.е. \n",
    " \t$$\\|p\\|_{\\Omega, \\mathcal{D}} = \\sqrt{\\int_{\\Omega}\\ \\int\\int_\\mathcal{D}\\int (p(\\overline{r}, u))^2drdu}$$"
   ]
  },
  {
   "cell_type": "markdown",
   "metadata": {},
   "source": [
    "На практике при некоторой дискретизации задача нахождения сводится к решению следующей СЛАУ:\n",
    "$$P^i\\lambda = A(e + \\lambda) \\Rightarrow (A-P^i)\\lambda = -Ae$$\n",
    "$$P^i = diag(p^i)$$\n",
    "$$A = \\omega^2\\cdot\\Delta V \\cdot G \\cdot P^i \\cdot \\Delta s^2$$"
   ]
  },
  {
   "cell_type": "markdown",
   "metadata": {},
   "source": [
    "Поэтому задача требует решения в несколько этапов \n",
    "* Посчитать функцию Грина\n",
    "* Посчитать матрицу $A$\n",
    "* Решить СЛАУ некоторым методом\n",
    "* Решить исходную задачу"
   ]
  },
  {
   "cell_type": "markdown",
   "metadata": {},
   "source": [
    "Начнем с вычисления функции Грина"
   ]
  },
  {
   "cell_type": "code",
   "execution_count": 18,
   "metadata": {},
   "outputs": [],
   "source": [
    "import scipy, numpy as np, cmath, pandas as pd"
   ]
  },
  {
   "cell_type": "markdown",
   "metadata": {},
   "source": [
    "Для дифференциального оператора, используемого в задаче ($\\nabla^2 + k^2$), функция Грина имеет вид \n",
    "$$\\dfrac{exp({ik|\\overline{r}-\\overline{r_0}|})}{4\\pi|\\overline{r}-\\overline{r_0}|}$$"
   ]
  },
  {
   "cell_type": "code",
   "execution_count": 19,
   "metadata": {},
   "outputs": [],
   "source": [
    "def green_function(freq, r, r_0):\n",
    "    alpha = freq*1j/c \n",
    "    return cmath.exp(alpha*np.linalg.norm(r-r_0))/(4*cmath.pi*np.linalg.norm(r-r_0))"
   ]
  },
  {
   "cell_type": "markdown",
   "metadata": {},
   "source": [
    "Для расчета матрицы $A$ также нужно расчитать $\\Delta s^2$ и $P^i$"
   ]
  },
  {
   "cell_type": "markdown",
   "metadata": {},
   "source": [
    "$$\\Delta s^2 = \\dfrac{1}{c^2} - \\dfrac{1}{b^2}$$"
   ]
  },
  {
   "cell_type": "code",
   "execution_count": 20,
   "metadata": {},
   "outputs": [],
   "source": [
    "def slow_diff(c, b): #b - background sound speed\n",
    "    return (1/c**2 - 1/b**2)"
   ]
  },
  {
   "cell_type": "markdown",
   "metadata": {},
   "source": [
    "$$P^i = diag(p^i(\\overline(r), \\omega))$$\n",
    "$$p^i(\\overline{r}, \\omega) = G(r)$$\n",
    "В последнем равенстве для простоты полагаем, что амплитуда сигнала - значение функции источника в частотной области - равняется единицы, а интеграл от дельта-функции даст значение функции Грина в заданной точке"
   ]
  },
  {
   "cell_type": "code",
   "execution_count": 21,
   "metadata": {},
   "outputs": [],
   "source": [
    "def get_p(green_calc, grid, r_0, freq):\n",
    "    result = []\n",
    "    for dot in grid:\n",
    "        result.append(green_calc(freq, dot, r_0))\n",
    "    return np.array(result)"
   ]
  },
  {
   "cell_type": "code",
   "execution_count": 22,
   "metadata": {},
   "outputs": [],
   "source": [
    "def calc_G(freq, grid, green_func): #матрица Грина внутри области\n",
    "    G = np.zeros((len(grid), len(grid)), dtype=np.complex) # раф сказал что на диагонали должны стоять нули\n",
    "    for i in range(len(grid)):\n",
    "        for j in range(len(grid)):\n",
    "            if i < j :\n",
    "                a = green_func(freq, grid[i], grid[j])\n",
    "                G[i][j] = a\n",
    "                G[j][i] = a\n",
    "    return np.array(G)"
   ]
  },
  {
   "cell_type": "markdown",
   "metadata": {},
   "source": [
    "Теперь посчитаем всю матрицу A"
   ]
  },
  {
   "cell_type": "code",
   "execution_count": 31,
   "metadata": {},
   "outputs": [],
   "source": [
    "def calc_A(freq, sl_d, G, P, h):\n",
    "    return np.array(h**3 * freq * sl_d * np.matmul(G, P))"
   ]
  },
  {
   "cell_type": "markdown",
   "metadata": {},
   "source": [
    "Построим слау и решим"
   ]
  },
  {
   "cell_type": "code",
   "execution_count": 37,
   "metadata": {},
   "outputs": [],
   "source": [
    "def get_l(A, P):\n",
    "    left = A - P\n",
    "    right = -np.matmul(A, np.ones(len(A), dtype=np.complex))\n",
    "    return np.linalg.solve(left, right)"
   ]
  },
  {
   "cell_type": "markdown",
   "metadata": {},
   "source": [
    "Найдем результат для каждого источника"
   ]
  },
  {
   "cell_type": "code",
   "execution_count": 42,
   "metadata": {},
   "outputs": [],
   "source": [
    "def calc_p_ql(r_r, grid, l, G, p, green_func, s):\n",
    "    #p = p_calc(grid, r_i, green_func, freq) #вектор N^3 - связывает источник и точку аномалии\n",
    "    #P = np.diag(p) #диагональная матрица\n",
    "    #s = s_calc(c, b) #разница в медленности\n",
    "    #G = G_calc(freq, grid, green_func) #матрица - нужна для расчета лямбды\n",
    "    #A = A_calc(freq, s, G, P, h) #матрица A - нужная для расчета лямбды\n",
    "    #l = l_calc(A, P) + 1 #множитель (1+lambda)\n",
    "    g_r = get_p(green_func, grid, r_r, freq) #использую ту же функцию по теореме обратимости\n",
    "    return freq**2 * ds * np.sum(np.multiply(1+l, g_r, p))    #np.multiply выполняет поэлементное умножение "
   ]
  },
  {
   "cell_type": "code",
   "execution_count": 43,
   "metadata": {},
   "outputs": [],
   "source": [
    "def create_grid(x_0, y_0, z_0, a, h):\n",
    "    grid = []\n",
    "    x, y, z = x_0, y_0, z_0\n",
    "    while x < x_0 + a:\n",
    "        while y < y_0 + a:\n",
    "            while z < z_0 + a:\n",
    "                grid.append([x,y,z])\n",
    "                z = z + h\n",
    "            y = y + h\n",
    "        x = x + h\n",
    "    return np.array(grid)"
   ]
  },
  {
   "cell_type": "code",
   "execution_count": 44,
   "metadata": {},
   "outputs": [],
   "source": [
    "#расчет\n",
    "\n",
    "#источник\n",
    "x_i, y_i, z_i = 0., 0., 0\n",
    "r_0 = np.array([x_i, y_i, z_i])\n",
    "f = 5. # Hz\n",
    "freq = 2.*cmath.pi*f\n",
    "\n",
    "#аномалия\n",
    "x_0 = 500.\n",
    "y_0 = -150.\n",
    "z_0 = 300.\n",
    "a = 300.\n",
    "h = 30\n",
    "c = 3000.\n",
    "b = 1500.\n",
    "\n",
    "#сетка аномалии и матрицы, ее описывающие\n",
    "grid = create_grid(x_0, y_0, z_0, a, h)\n",
    "ds = slow_diff(c, b)\n",
    "p_i = get_p(green_function, grid, r_0, freq)\n",
    "P = np.diag(p_i)\n",
    "G = calc_G(freq, grid, green_function)\n",
    "A = calc_A(freq, ds, G, P, h)\n",
    "l = get_l(A, P)\n"
   ]
  },
  {
   "cell_type": "code",
   "execution_count": 46,
   "metadata": {},
   "outputs": [
    {
     "name": "stdout",
     "output_type": "stream",
     "text": [
      " (10,) (10,) (10,)\n",
      "(10,) (10,) (10,)\n",
      "(10,) (10,) (10,)\n",
      "(10,) (10,) (10,)\n",
      "(10,) (10,) (10,)\n",
      "(10,) (10,) (10,)\n",
      "(10,) (10,) (10,)\n",
      "(10,) (10,) (10,)\n",
      "(10,) (10,) (10,)\n",
      "(10,) (10,) (10,)\n",
      "(10,) (10,) (10,)\n",
      "(10,) (10,) (10,)\n",
      "(10,) (10,) (10,)\n",
      "(10,) (10,) (10,)\n",
      "(10,) (10,) (10,)\n",
      "(10,) (10,) (10,)\n",
      "(10,) (10,) (10,)\n",
      "(10,) (10,) (10,)\n",
      "(10,) (10,) (10,)\n",
      "(10,) (10,) (10,)\n"
     ]
    }
   ],
   "source": [
    "#список датчиков\n",
    "receivers_x = xrange(500, 1500, 50)\n",
    "receivers = []\n",
    "for x in receivers_x:\n",
    "    receivers.append([x, 0, 0])\n",
    "\n",
    "signal = []\n",
    "for r in receivers:\n",
    "    signal.append(calc_p_ql(r_r=r, grid=grid, l=l, G=G, p=p_i, green_func=green_function, s=ds))"
   ]
  },
  {
   "cell_type": "code",
   "execution_count": 49,
   "metadata": {},
   "outputs": [
    {
     "name": "stderr",
     "output_type": "stream",
     "text": [
      "/anaconda2/lib/python2.7/site-packages/numpy/core/numeric.py:501: ComplexWarning: Casting complex values to real discards the imaginary part\n",
      "  return array(a, dtype, copy=False, order=order)\n"
     ]
    },
    {
     "data": {
      "image/png": "[encoded data removed]",
      "text/plain": [
       "<matplotlib.figure.Figure at 0x11b3d3290>"
      ]
     },
     "metadata": {},
     "output_type": "display_data"
    }
   ],
   "source": [
    "import matplotlib.pyplot as plt\n",
    "import matplotlib.cm as cm\n",
    "\n",
    "plt.figure(figsize=(10, 10))\n",
    "plt.xlabel('recievers coordinates')\n",
    "plt.ylabel('pressure')\n",
    "plt.ticklabel_format(style='sci', axis='y', scilimits=(0,0))\n",
    "\n",
    "x = np.array([])\n",
    "y_QA = np.array([])\n",
    "y_born = np.array([])\n",
    "    \n",
    "plt.plot(receivers_x, signal, 'g-', label='Ql')\n",
    "plt.show()"
   ]
  },
  {
   "cell_type": "code",
   "execution_count": null,
   "metadata": {},
   "outputs": [],
   "source": []
  }
 ],
 "metadata": {
  "kernelspec": {
   "display_name": "Python 2",
   "language": "python",
   "name": "python2"
  },
  "language_info": {
   "codemirror_mode": {
    "name": "ipython",
    "version": 2
   },
   "file_extension": ".py",
   "mimetype": "text/x-python",
   "name": "python",
   "nbconvert_exporter": "python",
   "pygments_lexer": "ipython2",
   "version": "2.7.14"
  }
 },
 "nbformat": 4,
 "nbformat_minor": 2
}
